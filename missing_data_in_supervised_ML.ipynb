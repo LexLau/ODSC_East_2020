{
 "cells": [
  {
   "cell_type": "markdown",
   "metadata": {
    "slideshow": {
     "slide_type": "slide"
    }
   },
   "source": [
    "## <center>Missing data in supervised ML</center>\n",
    "### <center>Andras Zsom</center>\n",
    "<center>Lead Data Scientist and  Adjunct Lecturer in Data Science</center>\n",
    "<center>Center for Computation and Visualization</center>\n",
    "<center>Brown University</center>\n",
    "<center>Providence, RI, USA</center>"
   ]
  },
  {
   "cell_type": "markdown",
   "metadata": {
    "slideshow": {
     "slide_type": "slide"
    }
   },
   "source": [
    "## About me\n",
    "- Born and raised in Hungary\n",
    "- Astrophysics PhD at MPIA, Heidelberg, Germany\n",
    "- Postdoctoral researcher at MIT (still in astrophysics at the time)\n",
    "- Started at Brown in December 2015 as a Data Scientist\n",
    "- Promoted to Lead Data Scientist in 2017\n",
    "- Teaching the course *DATA1030: Hands-on data science* to the DS master students at Brown this semester"
   ]
  },
  {
   "cell_type": "markdown",
   "metadata": {
    "slideshow": {
     "slide_type": "slide"
    }
   },
   "source": [
    "## Data Science at Brown\n",
    "- Center for Computation and Visualization\n",
    "- Institutional Data group\n",
    "   - Data-driven decision support and predictive modeling for Brown’s administrative units\n",
    "   - Academic research on data-intensive projects"
   ]
  },
  {
   "cell_type": "markdown",
   "metadata": {
    "slideshow": {
     "slide_type": "slide"
    }
   },
   "source": [
    "## Learning Objectives\n",
    "\n",
    "By the end of this workshop, you will be able to\n",
    "- Describe the three main types of missingness patterns\n",
    "- Evaluate simple approaches for handling missing values (and why they can fail)\n",
    "- Apply XGBoost to a dataset with missing values\n",
    "- Apply multivariate imputation\n",
    "- Apply the reduced-features model (also called the pattern submodel approach)\n",
    "- Decide which approach is best for your dataset"
   ]
  },
  {
   "cell_type": "markdown",
   "metadata": {
    "slideshow": {
     "slide_type": "slide"
    }
   },
   "source": [
    "## <font color='LIGHTGRAY'>Learning Objectives</font>\n",
    "\n",
    "<font color='LIGHTGRAY'>By the end of this workshop, you will be able to</font>\n",
    "- **Describe the three main types of missingness patterns**\n",
    "- <font color='LIGHTGRAY'>Evaluate simple approaches for handling missing values (and why they can fail)</font>\n",
    "- <font color='LIGHTGRAY'>Apply XGBoost to a dataset with missing values</font>\n",
    "- <font color='LIGHTGRAY'>Apply multivariate imputation</font>\n",
    "- <font color='LIGHTGRAY'>Apply the reduced-features model (also called the pattern submodel approach)</font>\n",
    "- <font color='LIGHTGRAY'>Decide which approach is best for your dataset</font>"
   ]
  },
  {
   "cell_type": "markdown",
   "metadata": {
    "slideshow": {
     "slide_type": "subslide"
    }
   },
   "source": [
    "## Missing values often occur in datasets\n",
    "- survey data: not everyone answers all the questions\n",
    "- medical data: not all tests/treatments/etc are performed on all patients\n",
    "- sensor can be offline or malfunctioning\n",
    "- customer data: not every user uses all features of an app"
   ]
  },
  {
   "cell_type": "markdown",
   "metadata": {
    "slideshow": {
     "slide_type": "subslide"
    }
   },
   "source": [
    "## Missing values are an issue for multiple reasons\n",
    "\n",
    "#### Concenptual reason\n",
    "- missing values can introduce biases\n",
    "    - bias: the samples (the data points) are not representative of the underlying distribution/population\n",
    "    - any conclusion drawn from a biased dataset is also biased.\n",
    "    - rich people tend to not fill out survey questions about their salaries and the mean salary estimated from survey data tend to be lower than true value\n"
   ]
  },
  {
   "cell_type": "markdown",
   "metadata": {
    "slideshow": {
     "slide_type": "subslide"
    }
   },
   "source": [
    "#### Practical reason\n",
    "- missing values (NaN, NA, inf) are incompatible with sklearn\n",
    "   - all values in an array need to be numerical otherwise sklearn will throw a *ValueError*\n",
    "- there are a few supervised ML techniques that work with missing values (e.g., XGBoost)\n",
    "   - we will cover those later this semester during a follow-up lecture on missing data"
   ]
  },
  {
   "cell_type": "markdown",
   "metadata": {
    "slideshow": {
     "slide_type": "subslide"
    }
   },
   "source": [
    "# Missing data patterns\n",
    "\n",
    "- MCAR - Missing Complete At Random\n",
    "- MAR - Missing At Random\n",
    "- MNAR - Missing Not At Random"
   ]
  },
  {
   "cell_type": "markdown",
   "metadata": {
    "slideshow": {
     "slide_type": "subslide"
    }
   },
   "source": [
    "## MCAR - Missing Complete At Random\n",
    "\n",
    "- the reason the values are missing are related to an unobserved (unimportant) variable\n",
    "   - the data sample is still representative of the underlying distribution/population\n",
    "- your best case scenario but usually rare\n",
    "- can be diagnosed with a statistical test ([Little, 1988](https://www.tandfonline.com/doi/abs/10.1080/01621459.1988.10478722))\n",
    "   - python implementation [here](https://github.com/RianneSchouten/pymice)"
   ]
  },
  {
   "cell_type": "markdown",
   "metadata": {
    "slideshow": {
     "slide_type": "subslide"
    }
   },
   "source": [
    "## MCAR examples\n",
    "- some people randomly fail to fill in some values in a survey \n",
    "- sensor randomly malfunctions\n",
    "- apps, websites are unavailable sometimes"
   ]
  },
  {
   "cell_type": "markdown",
   "metadata": {
    "slideshow": {
     "slide_type": "subslide"
    }
   },
   "source": [
    "## MAR - Missing At Random\n",
    "\n",
    "- Name is misleading! Better name would be 'Missing Conditionally at Random' but the MCAR acronym is taken. \n",
    "- the reason why feature_i contains missing values is conditional on other variables but not on feature_i\n",
    "- difficult to diagnose\n",
    "- still, most methods assume MAR"
   ]
  },
  {
   "cell_type": "markdown",
   "metadata": {
    "slideshow": {
     "slide_type": "subslide"
    }
   },
   "source": [
    "## MAR examples\n",
    "- missing value in blood pressure data conditional on age\n",
    "   - older people are more likely to have their blood pressure measured during a regular check-up than younger people\n",
    "- males are less likely to fill in a depression survey\n",
    "   - this has nothing to do with their level of depression after accounting for maleness"
   ]
  },
  {
   "cell_type": "markdown",
   "metadata": {
    "slideshow": {
     "slide_type": "subslide"
    }
   },
   "source": [
    "## MNAR - Missing Not At Random\n",
    "\n",
    "- the reason the variable is missing is related to the value of the variable itself\n",
    "- most severe case of missingness!\n",
    "- not many approaches can deal with this correctly"
   ]
  },
  {
   "cell_type": "markdown",
   "metadata": {
    "slideshow": {
     "slide_type": "subslide"
    }
   },
   "source": [
    "## MNAR examples\n",
    "- depressed people are less likely to fill out a survey on depression because of their level of depression\n",
    "- rich people don't fill out survey info on  their salaries because they are rich\n",
    "- temperature sensor doesn't work because the observed temperature is outside of range"
   ]
  },
  {
   "cell_type": "markdown",
   "metadata": {
    "slideshow": {
     "slide_type": "subslide"
    }
   },
   "source": [
    "## Takeaway\n",
    "- it can be challenging to infer the missingness pattern from an incomplete dataset\n",
    "   - There is a statistical test to diagnose MCAR\n",
    "   - MAR and MNAR are difficult/impossible to diagnose to the best of my knowledge\n",
    "- multiple patterns can be present in the data\n",
    "   - even worse, multiple patterns can be present in one feature!\n",
    "   - missing values in a feature can occur due to a mix of MCAR and MAR for example\n"
   ]
  },
  {
   "cell_type": "code",
   "execution_count": null,
   "metadata": {},
   "outputs": [],
   "source": []
  }
 ],
 "metadata": {
  "celltoolbar": "Slideshow",
  "kernelspec": {
   "display_name": "Python 3",
   "language": "python",
   "name": "python3"
  },
  "language_info": {
   "codemirror_mode": {
    "name": "ipython",
    "version": 3
   },
   "file_extension": ".py",
   "mimetype": "text/x-python",
   "name": "python",
   "nbconvert_exporter": "python",
   "pygments_lexer": "ipython3",
   "version": "3.6.7"
  }
 },
 "nbformat": 4,
 "nbformat_minor": 2
}
